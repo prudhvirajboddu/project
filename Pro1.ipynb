{
 "cells": [
  {
   "cell_type": "code",
   "execution_count": 1,
   "metadata": {
    "id": "c1vKAkpmvzwD"
   },
   "outputs": [],
   "source": [
    "import pandas as pd\n",
    "import sqlite3\n",
    "import numpy as np\n",
    "import seaborn as sns\n",
    "import scipy.stats as stats"
   ]
  },
  {
   "cell_type": "code",
   "execution_count": 2,
   "metadata": {
    "colab": {
     "base_uri": "https://localhost:8080/",
     "height": 424
    },
    "id": "HBUP4CrLis8I",
    "outputId": "199bd23e-fb31-4b3c-f966-30335b3dd1e1"
   },
   "outputs": [
    {
     "data": {
      "text/html": [
       "<div>\n",
       "<style scoped>\n",
       "    .dataframe tbody tr th:only-of-type {\n",
       "        vertical-align: middle;\n",
       "    }\n",
       "\n",
       "    .dataframe tbody tr th {\n",
       "        vertical-align: top;\n",
       "    }\n",
       "\n",
       "    .dataframe thead th {\n",
       "        text-align: right;\n",
       "    }\n",
       "</style>\n",
       "<table border=\"1\" class=\"dataframe\">\n",
       "  <thead>\n",
       "    <tr style=\"text-align: right;\">\n",
       "      <th></th>\n",
       "      <th>Index</th>\n",
       "      <th>EducationStatus</th>\n",
       "      <th>Age</th>\n",
       "    </tr>\n",
       "  </thead>\n",
       "  <tbody>\n",
       "    <tr>\n",
       "      <th>0</th>\n",
       "      <td>0</td>\n",
       "      <td>Less than HS</td>\n",
       "      <td>26.0</td>\n",
       "    </tr>\n",
       "    <tr>\n",
       "      <th>1</th>\n",
       "      <td>1</td>\n",
       "      <td>Less than HS</td>\n",
       "      <td>43.8</td>\n",
       "    </tr>\n",
       "    <tr>\n",
       "      <th>2</th>\n",
       "      <td>2</td>\n",
       "      <td>Less than HS</td>\n",
       "      <td>34.4</td>\n",
       "    </tr>\n",
       "    <tr>\n",
       "      <th>3</th>\n",
       "      <td>3</td>\n",
       "      <td>Less than HS</td>\n",
       "      <td>76.2</td>\n",
       "    </tr>\n",
       "    <tr>\n",
       "      <th>4</th>\n",
       "      <td>4</td>\n",
       "      <td>Less than HS</td>\n",
       "      <td>0.2</td>\n",
       "    </tr>\n",
       "    <tr>\n",
       "      <th>...</th>\n",
       "      <td>...</td>\n",
       "      <td>...</td>\n",
       "      <td>...</td>\n",
       "    </tr>\n",
       "    <tr>\n",
       "      <th>1166</th>\n",
       "      <td>1166</td>\n",
       "      <td>Graduate</td>\n",
       "      <td>52.7</td>\n",
       "    </tr>\n",
       "    <tr>\n",
       "      <th>1167</th>\n",
       "      <td>1167</td>\n",
       "      <td>Graduate</td>\n",
       "      <td>59.8</td>\n",
       "    </tr>\n",
       "    <tr>\n",
       "      <th>1168</th>\n",
       "      <td>1168</td>\n",
       "      <td>Graduate</td>\n",
       "      <td>54.1</td>\n",
       "    </tr>\n",
       "    <tr>\n",
       "      <th>1169</th>\n",
       "      <td>1169</td>\n",
       "      <td>Graduate</td>\n",
       "      <td>39.9</td>\n",
       "    </tr>\n",
       "    <tr>\n",
       "      <th>1170</th>\n",
       "      <td>1170</td>\n",
       "      <td>Graduate</td>\n",
       "      <td>58.2</td>\n",
       "    </tr>\n",
       "  </tbody>\n",
       "</table>\n",
       "<p>1171 rows × 3 columns</p>\n",
       "</div>"
      ],
      "text/plain": [
       "      Index EducationStatus   Age\n",
       "0         0    Less than HS  26.0\n",
       "1         1    Less than HS  43.8\n",
       "2         2    Less than HS  34.4\n",
       "3         3    Less than HS  76.2\n",
       "4         4    Less than HS   0.2\n",
       "...     ...             ...   ...\n",
       "1166   1166        Graduate  52.7\n",
       "1167   1167        Graduate  59.8\n",
       "1168   1168        Graduate  54.1\n",
       "1169   1169        Graduate  39.9\n",
       "1170   1170        Graduate  58.2\n",
       "\n",
       "[1171 rows x 3 columns]"
      ]
     },
     "execution_count": 2,
     "metadata": {},
     "output_type": "execute_result"
    }
   ],
   "source": [
    "cnx=sqlite3.connect('DSCI6002_prj1_data.db')\n",
    "df=pd.read_sql_query('SELECT*FROM PRJ1',cnx)\n",
    "fdf=pd.DataFrame(df)\n",
    "fdf.columns=['Index','EducationStatus','Age']\n",
    "fdf"
   ]
  },
  {
   "cell_type": "code",
   "execution_count": 334,
   "metadata": {
    "colab": {
     "base_uri": "https://localhost:8080/",
     "height": 424
    },
    "id": "ILw3Q7pNCoKp",
    "outputId": "46818263-ae1f-4c05-f139-73e28ad2ecc9"
   },
   "outputs": [
    {
     "data": {
      "text/html": [
       "\n",
       "  <div id=\"df-d7076d50-1b5b-49be-ae7f-9ef7ce818737\">\n",
       "    <div class=\"colab-df-container\">\n",
       "      <div>\n",
       "<style scoped>\n",
       "    .dataframe tbody tr th:only-of-type {\n",
       "        vertical-align: middle;\n",
       "    }\n",
       "\n",
       "    .dataframe tbody tr th {\n",
       "        vertical-align: top;\n",
       "    }\n",
       "\n",
       "    .dataframe thead th {\n",
       "        text-align: right;\n",
       "    }\n",
       "</style>\n",
       "<table border=\"1\" class=\"dataframe\">\n",
       "  <thead>\n",
       "    <tr style=\"text-align: right;\">\n",
       "      <th></th>\n",
       "      <th>Index</th>\n",
       "      <th>EducationStatus</th>\n",
       "      <th>Age</th>\n",
       "      <th>NEducationStatus</th>\n",
       "    </tr>\n",
       "  </thead>\n",
       "  <tbody>\n",
       "    <tr>\n",
       "      <th>0</th>\n",
       "      <td>0</td>\n",
       "      <td>Less than HS</td>\n",
       "      <td>26.0</td>\n",
       "      <td>0</td>\n",
       "    </tr>\n",
       "    <tr>\n",
       "      <th>1</th>\n",
       "      <td>1</td>\n",
       "      <td>Less than HS</td>\n",
       "      <td>43.8</td>\n",
       "      <td>0</td>\n",
       "    </tr>\n",
       "    <tr>\n",
       "      <th>2</th>\n",
       "      <td>2</td>\n",
       "      <td>Less than HS</td>\n",
       "      <td>34.4</td>\n",
       "      <td>0</td>\n",
       "    </tr>\n",
       "    <tr>\n",
       "      <th>3</th>\n",
       "      <td>3</td>\n",
       "      <td>Less than HS</td>\n",
       "      <td>76.2</td>\n",
       "      <td>0</td>\n",
       "    </tr>\n",
       "    <tr>\n",
       "      <th>4</th>\n",
       "      <td>4</td>\n",
       "      <td>Less than HS</td>\n",
       "      <td>0.2</td>\n",
       "      <td>0</td>\n",
       "    </tr>\n",
       "    <tr>\n",
       "      <th>...</th>\n",
       "      <td>...</td>\n",
       "      <td>...</td>\n",
       "      <td>...</td>\n",
       "      <td>...</td>\n",
       "    </tr>\n",
       "    <tr>\n",
       "      <th>1166</th>\n",
       "      <td>1166</td>\n",
       "      <td>Graduate</td>\n",
       "      <td>52.7</td>\n",
       "      <td>4</td>\n",
       "    </tr>\n",
       "    <tr>\n",
       "      <th>1167</th>\n",
       "      <td>1167</td>\n",
       "      <td>Graduate</td>\n",
       "      <td>59.8</td>\n",
       "      <td>4</td>\n",
       "    </tr>\n",
       "    <tr>\n",
       "      <th>1168</th>\n",
       "      <td>1168</td>\n",
       "      <td>Graduate</td>\n",
       "      <td>54.1</td>\n",
       "      <td>4</td>\n",
       "    </tr>\n",
       "    <tr>\n",
       "      <th>1169</th>\n",
       "      <td>1169</td>\n",
       "      <td>Graduate</td>\n",
       "      <td>39.9</td>\n",
       "      <td>4</td>\n",
       "    </tr>\n",
       "    <tr>\n",
       "      <th>1170</th>\n",
       "      <td>1170</td>\n",
       "      <td>Graduate</td>\n",
       "      <td>58.2</td>\n",
       "      <td>4</td>\n",
       "    </tr>\n",
       "  </tbody>\n",
       "</table>\n",
       "<p>1171 rows × 4 columns</p>\n",
       "</div>\n",
       "      <button class=\"colab-df-convert\" onclick=\"convertToInteractive('df-d7076d50-1b5b-49be-ae7f-9ef7ce818737')\"\n",
       "              title=\"Convert this dataframe to an interactive table.\"\n",
       "              style=\"display:none;\">\n",
       "        \n",
       "  <svg xmlns=\"http://www.w3.org/2000/svg\" height=\"24px\"viewBox=\"0 0 24 24\"\n",
       "       width=\"24px\">\n",
       "    <path d=\"M0 0h24v24H0V0z\" fill=\"none\"/>\n",
       "    <path d=\"M18.56 5.44l.94 2.06.94-2.06 2.06-.94-2.06-.94-.94-2.06-.94 2.06-2.06.94zm-11 1L8.5 8.5l.94-2.06 2.06-.94-2.06-.94L8.5 2.5l-.94 2.06-2.06.94zm10 10l.94 2.06.94-2.06 2.06-.94-2.06-.94-.94-2.06-.94 2.06-2.06.94z\"/><path d=\"M17.41 7.96l-1.37-1.37c-.4-.4-.92-.59-1.43-.59-.52 0-1.04.2-1.43.59L10.3 9.45l-7.72 7.72c-.78.78-.78 2.05 0 2.83L4 21.41c.39.39.9.59 1.41.59.51 0 1.02-.2 1.41-.59l7.78-7.78 2.81-2.81c.8-.78.8-2.07 0-2.86zM5.41 20L4 18.59l7.72-7.72 1.47 1.35L5.41 20z\"/>\n",
       "  </svg>\n",
       "      </button>\n",
       "      \n",
       "  <style>\n",
       "    .colab-df-container {\n",
       "      display:flex;\n",
       "      flex-wrap:wrap;\n",
       "      gap: 12px;\n",
       "    }\n",
       "\n",
       "    .colab-df-convert {\n",
       "      background-color: #E8F0FE;\n",
       "      border: none;\n",
       "      border-radius: 50%;\n",
       "      cursor: pointer;\n",
       "      display: none;\n",
       "      fill: #1967D2;\n",
       "      height: 32px;\n",
       "      padding: 0 0 0 0;\n",
       "      width: 32px;\n",
       "    }\n",
       "\n",
       "    .colab-df-convert:hover {\n",
       "      background-color: #E2EBFA;\n",
       "      box-shadow: 0px 1px 2px rgba(60, 64, 67, 0.3), 0px 1px 3px 1px rgba(60, 64, 67, 0.15);\n",
       "      fill: #174EA6;\n",
       "    }\n",
       "\n",
       "    [theme=dark] .colab-df-convert {\n",
       "      background-color: #3B4455;\n",
       "      fill: #D2E3FC;\n",
       "    }\n",
       "\n",
       "    [theme=dark] .colab-df-convert:hover {\n",
       "      background-color: #434B5C;\n",
       "      box-shadow: 0px 1px 3px 1px rgba(0, 0, 0, 0.15);\n",
       "      filter: drop-shadow(0px 1px 2px rgba(0, 0, 0, 0.3));\n",
       "      fill: #FFFFFF;\n",
       "    }\n",
       "  </style>\n",
       "\n",
       "      <script>\n",
       "        const buttonEl =\n",
       "          document.querySelector('#df-d7076d50-1b5b-49be-ae7f-9ef7ce818737 button.colab-df-convert');\n",
       "        buttonEl.style.display =\n",
       "          google.colab.kernel.accessAllowed ? 'block' : 'none';\n",
       "\n",
       "        async function convertToInteractive(key) {\n",
       "          const element = document.querySelector('#df-d7076d50-1b5b-49be-ae7f-9ef7ce818737');\n",
       "          const dataTable =\n",
       "            await google.colab.kernel.invokeFunction('convertToInteractive',\n",
       "                                                     [key], {});\n",
       "          if (!dataTable) return;\n",
       "\n",
       "          const docLinkHtml = 'Like what you see? Visit the ' +\n",
       "            '<a target=\"_blank\" href=https://colab.research.google.com/notebooks/data_table.ipynb>data table notebook</a>'\n",
       "            + ' to learn more about interactive tables.';\n",
       "          element.innerHTML = '';\n",
       "          dataTable['output_type'] = 'display_data';\n",
       "          await google.colab.output.renderOutput(dataTable, element);\n",
       "          const docLink = document.createElement('div');\n",
       "          docLink.innerHTML = docLinkHtml;\n",
       "          element.appendChild(docLink);\n",
       "        }\n",
       "      </script>\n",
       "    </div>\n",
       "  </div>\n",
       "  "
      ],
      "text/plain": [
       "      Index EducationStatus   Age  NEducationStatus\n",
       "0         0    Less than HS  26.0                 0\n",
       "1         1    Less than HS  43.8                 0\n",
       "2         2    Less than HS  34.4                 0\n",
       "3         3    Less than HS  76.2                 0\n",
       "4         4    Less than HS   0.2                 0\n",
       "...     ...             ...   ...               ...\n",
       "1166   1166        Graduate  52.7                 4\n",
       "1167   1167        Graduate  59.8                 4\n",
       "1168   1168        Graduate  54.1                 4\n",
       "1169   1169        Graduate  39.9                 4\n",
       "1170   1170        Graduate  58.2                 4\n",
       "\n",
       "[1171 rows x 4 columns]"
      ]
     },
     "execution_count": 334,
     "metadata": {},
     "output_type": "execute_result"
    }
   ],
   "source": [
    "dataMapping ={'Less than HS':0, 'HS':1, 'Jr Coll':2, \"Bachelor's\":3, 'Graduate':4}\n",
    "fdf['NEducationStatus']=fdf['EducationStatus'].map(dataMapping)\n",
    "fdf"
   ]
  },
  {
   "cell_type": "code",
   "execution_count": 335,
   "metadata": {
    "colab": {
     "base_uri": "https://localhost:8080/",
     "height": 337
    },
    "id": "gXIgFOe6OusJ",
    "outputId": "1d0d6fc6-de6e-478a-a61a-a08928aa72ec"
   },
   "outputs": [
    {
     "name": "stderr",
     "output_type": "stream",
     "text": [
      "/usr/local/lib/python3.7/dist-packages/matplotlib/cbook/__init__.py:1376: VisibleDeprecationWarning: Creating an ndarray from ragged nested sequences (which is a list-or-tuple of lists-or-tuples-or ndarrays with different lengths or shapes) is deprecated. If you meant to do this, you must specify 'dtype=object' when creating the ndarray.\n",
      "  X = np.atleast_1d(X.T if isinstance(X, np.ndarray) else np.asarray(X))\n"
     ]
    },
    {
     "data": {
      "text/plain": [
       "<matplotlib.axes._subplots.AxesSubplot at 0x7fcb6b45c790>"
      ]
     },
     "execution_count": 335,
     "metadata": {},
     "output_type": "execute_result"
    },
    {
     "data": {
      "image/png": "[encoded data removed]",
      "text/plain": [
       "<Figure size 432x288 with 1 Axes>"
      ]
     },
     "metadata": {
      "needs_background": "light"
     },
     "output_type": "display_data"
    }
   ],
   "source": [
    "fdf.boxplot(column=[\"Index\",\"Age\",\"NEducationStatus\"],grid=False)"
   ]
  },
  {
   "cell_type": "code",
   "execution_count": 336,
   "metadata": {
    "id": "V9aX7mOYMCb9"
   },
   "outputs": [],
   "source": [
    "d_melt=fdf.melt(id_vars=['NEducationStatus','EducationStatus'],value_vars='Age')\n",
    "d_melt.columns=['NEducationStatus','EducationStatus','Description','Age']"
   ]
  },
  {
   "cell_type": "code",
   "execution_count": 337,
   "metadata": {
    "colab": {
     "base_uri": "https://localhost:8080/",
     "height": 516
    },
    "id": "UQQ_FOc5OVmO",
    "outputId": "c297add9-be02-4466-c1df-ac341c8fe085"
   },
   "outputs": [
    {
     "data": {
      "text/html": [
       "<table class=\"simpletable\">\n",
       "<caption>OLS Regression Results</caption>\n",
       "<tr>\n",
       "  <th>Dep. Variable:</th>           <td>Age</td>       <th>  R-squared:         </th> <td>   0.015</td>\n",
       "</tr>\n",
       "<tr>\n",
       "  <th>Model:</th>                   <td>OLS</td>       <th>  Adj. R-squared:    </th> <td>   0.012</td>\n",
       "</tr>\n",
       "<tr>\n",
       "  <th>Method:</th>             <td>Least Squares</td>  <th>  F-statistic:       </th> <td>   4.460</td>\n",
       "</tr>\n",
       "<tr>\n",
       "  <th>Date:</th>             <td>Sat, 19 Nov 2022</td> <th>  Prob (F-statistic):</th>  <td>0.00140</td>\n",
       "</tr>\n",
       "<tr>\n",
       "  <th>Time:</th>                 <td>23:53:00</td>     <th>  Log-Likelihood:    </th> <td> -4790.7</td>\n",
       "</tr>\n",
       "<tr>\n",
       "  <th>No. Observations:</th>      <td>  1160</td>      <th>  AIC:               </th> <td>   9591.</td>\n",
       "</tr>\n",
       "<tr>\n",
       "  <th>Df Residuals:</th>          <td>  1155</td>      <th>  BIC:               </th> <td>   9617.</td>\n",
       "</tr>\n",
       "<tr>\n",
       "  <th>Df Model:</th>              <td>     4</td>      <th>                     </th>     <td> </td>   \n",
       "</tr>\n",
       "<tr>\n",
       "  <th>Covariance Type:</th>      <td>nonrobust</td>    <th>                     </th>     <td> </td>   \n",
       "</tr>\n",
       "</table>\n",
       "<table class=\"simpletable\">\n",
       "<tr>\n",
       "                   <td></td>                     <th>coef</th>     <th>std err</th>      <th>t</th>      <th>P>|t|</th>  <th>[0.025</th>    <th>0.975]</th>  \n",
       "</tr>\n",
       "<tr>\n",
       "  <th>Intercept</th>                          <td>   42.1306</td> <td>    0.950</td> <td>   44.360</td> <td> 0.000</td> <td>   40.267</td> <td>   43.994</td>\n",
       "</tr>\n",
       "<tr>\n",
       "  <th>C(EducationStatus)[T.Graduate]</th>     <td>    1.4819</td> <td>    1.545</td> <td>    0.959</td> <td> 0.338</td> <td>   -1.550</td> <td>    4.514</td>\n",
       "</tr>\n",
       "<tr>\n",
       "  <th>C(EducationStatus)[T.HS]</th>           <td>   -2.0075</td> <td>    1.150</td> <td>   -1.746</td> <td> 0.081</td> <td>   -4.263</td> <td>    0.249</td>\n",
       "</tr>\n",
       "<tr>\n",
       "  <th>C(EducationStatus)[T.Jr Coll]</th>      <td>   -1.1264</td> <td>    1.808</td> <td>   -0.623</td> <td> 0.533</td> <td>   -4.674</td> <td>    2.421</td>\n",
       "</tr>\n",
       "<tr>\n",
       "  <th>C(EducationStatus)[T.Less than HS]</th> <td>   -5.6017</td> <td>    1.682</td> <td>   -3.331</td> <td> 0.001</td> <td>   -8.901</td> <td>   -2.302</td>\n",
       "</tr>\n",
       "</table>\n",
       "<table class=\"simpletable\">\n",
       "<tr>\n",
       "  <th>Omnibus:</th>       <td> 0.567</td> <th>  Durbin-Watson:     </th> <td>   1.988</td>\n",
       "</tr>\n",
       "<tr>\n",
       "  <th>Prob(Omnibus):</th> <td> 0.753</td> <th>  Jarque-Bera (JB):  </th> <td>   0.649</td>\n",
       "</tr>\n",
       "<tr>\n",
       "  <th>Skew:</th>          <td> 0.035</td> <th>  Prob(JB):          </th> <td>   0.723</td>\n",
       "</tr>\n",
       "<tr>\n",
       "  <th>Kurtosis:</th>      <td> 2.907</td> <th>  Cond. No.          </th> <td>    6.25</td>\n",
       "</tr>\n",
       "</table><br/><br/>Notes:<br/>[1] Standard Errors assume that the covariance matrix of the errors is correctly specified."
      ],
      "text/plain": [
       "<class 'statsmodels.iolib.summary.Summary'>\n",
       "\"\"\"\n",
       "                            OLS Regression Results                            \n",
       "==============================================================================\n",
       "Dep. Variable:                    Age   R-squared:                       0.015\n",
       "Model:                            OLS   Adj. R-squared:                  0.012\n",
       "Method:                 Least Squares   F-statistic:                     4.460\n",
       "Date:                Sat, 19 Nov 2022   Prob (F-statistic):            0.00140\n",
       "Time:                        23:53:00   Log-Likelihood:                -4790.7\n",
       "No. Observations:                1160   AIC:                             9591.\n",
       "Df Residuals:                    1155   BIC:                             9617.\n",
       "Df Model:                           4                                         \n",
       "Covariance Type:            nonrobust                                         \n",
       "======================================================================================================\n",
       "                                         coef    std err          t      P>|t|      [0.025      0.975]\n",
       "------------------------------------------------------------------------------------------------------\n",
       "Intercept                             42.1306      0.950     44.360      0.000      40.267      43.994\n",
       "C(EducationStatus)[T.Graduate]         1.4819      1.545      0.959      0.338      -1.550       4.514\n",
       "C(EducationStatus)[T.HS]              -2.0075      1.150     -1.746      0.081      -4.263       0.249\n",
       "C(EducationStatus)[T.Jr Coll]         -1.1264      1.808     -0.623      0.533      -4.674       2.421\n",
       "C(EducationStatus)[T.Less than HS]    -5.6017      1.682     -3.331      0.001      -8.901      -2.302\n",
       "==============================================================================\n",
       "Omnibus:                        0.567   Durbin-Watson:                   1.988\n",
       "Prob(Omnibus):                  0.753   Jarque-Bera (JB):                0.649\n",
       "Skew:                           0.035   Prob(JB):                        0.723\n",
       "Kurtosis:                       2.907   Cond. No.                         6.25\n",
       "==============================================================================\n",
       "\n",
       "Notes:\n",
       "[1] Standard Errors assume that the covariance matrix of the errors is correctly specified.\n",
       "\"\"\""
      ]
     },
     "execution_count": 337,
     "metadata": {},
     "output_type": "execute_result"
    }
   ],
   "source": [
    "import statsmodels.api as sm\n",
    "from statsmodels.formula.api import ols\n",
    "model =ols('Age ~ C(EducationStatus)', data=d_melt).fit() \n",
    "model.summary()"
   ]
  },
  {
   "cell_type": "code",
   "execution_count": 338,
   "metadata": {
    "colab": {
     "base_uri": "https://localhost:8080/"
    },
    "id": "5K_1qRVTPdGH",
    "outputId": "ed2d3716-6a15-4ff2-fa65-4e7b040ba96f"
   },
   "outputs": [
    {
     "name": "stdout",
     "output_type": "stream",
     "text": [
      "                        df         sum_sq      mean_sq         F    PR(>F)\n",
      "C(EducationStatus)     4.0    4054.648874  1013.662219  4.459536  0.001402\n",
      "Residual            1155.0  262534.002678   227.302167       NaN       NaN\n"
     ]
    }
   ],
   "source": [
    "anova_table=sm.stats.anova_lm(model,type=2)\n",
    "print(anova_table)"
   ]
  },
  {
   "cell_type": "code",
   "execution_count": 339,
   "metadata": {
    "colab": {
     "base_uri": "https://localhost:8080/"
    },
    "id": "LbzQ68lzPgp-",
    "outputId": "3bca8479-4ab1-4b1f-b73d-792d893b281f"
   },
   "outputs": [
    {
     "name": "stdout",
     "output_type": "stream",
     "text": [
      "                        df         sum_sq      mean_sq         F    PR(>F)  \\\n",
      "C(EducationStatus)     4.0    4054.648874  1013.662219  4.459536  0.001402   \n",
      "Residual            1155.0  262534.002678   227.302167       NaN       NaN   \n",
      "\n",
      "                       EtaSq  \n",
      "C(EducationStatus)  0.015209  \n",
      "Residual                 NaN  \n"
     ]
    }
   ],
   "source": [
    "esq_sm=anova_table['sum_sq'][0]/(anova_table['sum_sq'][0]+anova_table['sum_sq'][1])\n",
    "anova_table['EtaSq']=[esq_sm,'NaN']\n",
    "print(anova_table)"
   ]
  },
  {
   "cell_type": "code",
   "execution_count": 340,
   "metadata": {
    "colab": {
     "base_uri": "https://localhost:8080/",
     "height": 183
    },
    "id": "AtOz9PfLPimu",
    "outputId": "38eed519-756a-47eb-dc7f-28440ec4896e"
   },
   "outputs": [
    {
     "ename": "AttributeError",
     "evalue": "ignored",
     "output_type": "error",
     "traceback": [
      "\u001b[0;31m---------------------------------------------------------------------------\u001b[0m",
      "\u001b[0;31mAttributeError\u001b[0m                            Traceback (most recent call last)",
      "\u001b[0;32m<ipython-input-340-06297910481e>\u001b[0m in \u001b[0;36m<module>\u001b[0;34m\u001b[0m\n\u001b[0;32m----> 1\u001b[0;31m \u001b[0mpair_t\u001b[0m\u001b[0;34m=\u001b[0m\u001b[0mmodel\u001b[0m\u001b[0;34m.\u001b[0m\u001b[0mt_test\u001b[0m\u001b[0;34m.\u001b[0m\u001b[0mpairwise\u001b[0m\u001b[0;34m(\u001b[0m\u001b[0;34m'C(EducationStatus)'\u001b[0m\u001b[0;34m)\u001b[0m\u001b[0;34m\u001b[0m\u001b[0;34m\u001b[0m\u001b[0m\n\u001b[0m\u001b[1;32m      2\u001b[0m \u001b[0mpair_t\u001b[0m\u001b[0;34m.\u001b[0m\u001b[0mresult_frame\u001b[0m\u001b[0;34m\u001b[0m\u001b[0;34m\u001b[0m\u001b[0m\n",
      "\u001b[0;31mAttributeError\u001b[0m: 'function' object has no attribute 'pairwise'"
     ]
    }
   ],
   "source": [
    "pair_t=model.t_test.pairwise('C(EducationStatus)')\n",
    "pair_t.result_frame"
   ]
  },
  {
   "cell_type": "code",
   "execution_count": 342,
   "metadata": {
    "colab": {
     "base_uri": "https://localhost:8080/"
    },
    "id": "Z3-k-2ShT-Fo",
    "outputId": "9efa97c0-3388-49b6-8256-e9f0dc29937c"
   },
   "outputs": [
    {
     "name": "stdout",
     "output_type": "stream",
     "text": [
      "\n",
      "NaN result encountered.\n",
      "\n",
      "NaN result encountered.\n",
      "\n",
      "NaN result encountered.\n",
      "\n",
      "NaN result encountered.\n",
      "\n",
      "NaN result encountered.\n",
      "\n",
      "NaN result encountered.\n",
      "\n",
      "NaN result encountered.\n",
      "\n",
      "NaN result encountered.\n",
      "\n",
      "NaN result encountered.\n",
      "\n",
      "NaN result encountered.\n",
      "\n",
      "NaN result encountered.\n",
      "   Multiple Comparison of Means - Tukey HSD, FWER=0.05    \n",
      "==========================================================\n",
      "  group1      group2    meandiff p-adj  lower upper reject\n",
      "----------------------------------------------------------\n",
      "Bachelor's     Graduate      nan 0.5566   nan   nan  False\n",
      "Bachelor's           HS      nan 0.5566   nan   nan  False\n",
      "Bachelor's      Jr Coll      nan 0.5566   nan   nan  False\n",
      "Bachelor's Less than HS      nan 0.5566   nan   nan  False\n",
      "  Graduate           HS      nan 0.5566   nan   nan  False\n",
      "  Graduate      Jr Coll      nan 0.5566   nan   nan  False\n",
      "  Graduate Less than HS      nan 0.5566   nan   nan  False\n",
      "        HS      Jr Coll      nan 0.5566   nan   nan  False\n",
      "        HS Less than HS      nan 0.5566   nan   nan  False\n",
      "   Jr Coll Less than HS      nan 0.5566   nan   nan  False\n",
      "----------------------------------------------------------\n"
     ]
    }
   ],
   "source": [
    "mc=sm.stats.multicomp.MultiComparison(d_melt['Age'],d_melt['EducationStatus'])\n",
    "mc_results=mc.tukeyhsd()\n",
    "print(mc_results)"
   ]
  },
  {
   "cell_type": "code",
   "execution_count": 301,
   "metadata": {
    "colab": {
     "base_uri": "https://localhost:8080/"
    },
    "id": "pJtr6QxIPnq_",
    "outputId": "83ddd9f6-3a48-47e9-93d5-a2d671ddd195"
   },
   "outputs": [
    {
     "name": "stdout",
     "output_type": "stream",
     "text": [
      "\n",
      "NaN result encountered.\n",
      "\n",
      "NaN result encountered.\n",
      "\n",
      "NaN result encountered.\n",
      "\n",
      "NaN result encountered.\n",
      "\n",
      "NaN result encountered.\n",
      "\n",
      "NaN result encountered.\n",
      "\n",
      "NaN result encountered.\n",
      "\n",
      "NaN result encountered.\n",
      "\n",
      "NaN result encountered.\n",
      "\n",
      "NaN result encountered.\n",
      "\n",
      "NaN result encountered.\n",
      "Multiple Comparison of Means - Tukey HSD, FWER=0.05\n",
      "================================================\n",
      "group1 group2 meandiff p-adj  lower upper reject\n",
      "------------------------------------------------\n",
      "     0      1      nan 0.5566   nan   nan  False\n",
      "     0      2      nan 0.5566   nan   nan  False\n",
      "     0      3      nan 0.5566   nan   nan  False\n",
      "     0      4      nan 0.5566   nan   nan  False\n",
      "     1      2      nan 0.5566   nan   nan  False\n",
      "     1      3      nan 0.5566   nan   nan  False\n",
      "     1      4      nan 0.5566   nan   nan  False\n",
      "     2      3      nan 0.5566   nan   nan  False\n",
      "     2      4      nan 0.5566   nan   nan  False\n",
      "     3      4      nan 0.5566   nan   nan  False\n",
      "------------------------------------------------\n"
     ]
    }
   ],
   "source": [
    "mc=sm.stats.multicomp.MultiComparison(d_melt['Age'],d_melt['NEducationStatus'])\n",
    "mc_results=mc.tukeyhsd()\n",
    "print(mc_results)\n"
   ]
  },
  {
   "cell_type": "code",
   "execution_count": 343,
   "metadata": {
    "colab": {
     "base_uri": "https://localhost:8080/",
     "height": 279
    },
    "id": "y4fuPUKBUMwH",
    "outputId": "1779bf8b-eda7-4eaf-f2c7-326ac2362ab6"
   },
   "outputs": [
    {
     "data": {
      "image/png": "[encoded data removed]",
      "text/plain": [
       "<Figure size 432x288 with 1 Axes>"
      ]
     },
     "metadata": {
      "needs_background": "light"
     },
     "output_type": "display_data"
    }
   ],
   "source": [
    "res=model.resid\n",
    "fig=sm.qqplot(res,line='s')"
   ]
  },
  {
   "cell_type": "code",
   "execution_count": 344,
   "metadata": {
    "colab": {
     "base_uri": "https://localhost:8080/",
     "height": 337
    },
    "id": "ZaFkUOKFUPIv",
    "outputId": "a0ae722c-4968-4299-8ca8-47cf8fbe5996"
   },
   "outputs": [
    {
     "name": "stderr",
     "output_type": "stream",
     "text": [
      "/usr/local/lib/python3.7/dist-packages/seaborn/distributions.py:2619: FutureWarning: `distplot` is a deprecated function and will be removed in a future version. Please adapt your code to use either `displot` (a figure-level function with similar flexibility) or `histplot` (an axes-level function for histograms).\n",
      "  warnings.warn(msg, FutureWarning)\n"
     ]
    },
    {
     "data": {
      "text/plain": [
       "<matplotlib.axes._subplots.AxesSubplot at 0x7fcb6b294610>"
      ]
     },
     "execution_count": 344,
     "metadata": {},
     "output_type": "execute_result"
    },
    {
     "data": {
      "image/png": "[encoded data removed]",
      "text/plain": [
       "<Figure size 432x288 with 1 Axes>"
      ]
     },
     "metadata": {
      "needs_background": "light"
     },
     "output_type": "display_data"
    }
   ],
   "source": [
    "from seaborn.distributions import distplot\n",
    "import seaborn as sns\n",
    "sns.distplot(res,bins='auto',hist=True)"
   ]
  },
  {
   "cell_type": "code",
   "execution_count": 351,
   "metadata": {
    "colab": {
     "base_uri": "https://localhost:8080/",
     "height": 286
    },
    "id": "9QLph6fKUcO8",
    "outputId": "2c57bd21-ceac-4e8c-fb17-8926bb17dcdc"
   },
   "outputs": [
    {
     "data": {
      "text/plain": [
       "<matplotlib.axes._subplots.AxesSubplot at 0x7fcb66c0f090>"
      ]
     },
     "execution_count": 351,
     "metadata": {},
     "output_type": "execute_result"
    },
    {
     "data": {
      "image/png": "[encoded data removed]",
      "text/plain": [
       "<Figure size 432x288 with 2 Axes>"
      ]
     },
     "metadata": {
      "needs_background": "light"
     },
     "output_type": "display_data"
    }
   ],
   "source": [
    "#relationship analysis\n",
    "corelation=d_melt.corr()\n",
    "sns.heatmap(corelation,xticklabels=corelation.columns,yticklabels=corelation.columns,annot=True)"
   ]
  },
  {
   "cell_type": "code",
   "execution_count": 350,
   "metadata": {
    "colab": {
     "base_uri": "https://localhost:8080/",
     "height": 391
    },
    "id": "RG985nJeUkFz",
    "outputId": "8daa7b35-4227-48c5-9782-e6ad3eb6df02"
   },
   "outputs": [
    {
     "data": {
      "text/plain": [
       "<seaborn.axisgrid.PairGrid at 0x7fcb66ea6790>"
      ]
     },
     "execution_count": 350,
     "metadata": {},
     "output_type": "execute_result"
    },
    {
     "data": {
      "image/png": "[encoded data removed]",
      "text/plain": [
       "<Figure size 360x360 with 6 Axes>"
      ]
     },
     "metadata": {
      "needs_background": "light"
     },
     "output_type": "display_data"
    }
   ],
   "source": [
    "sns.pairplot(d_melt)"
   ]
  },
  {
   "cell_type": "code",
   "execution_count": 349,
   "metadata": {
    "colab": {
     "base_uri": "https://localhost:8080/",
     "height": 386
    },
    "id": "tTvB8O3pUsCN",
    "outputId": "f4c9dba2-1156-44e3-a8b8-e2fa41e7d855"
   },
   "outputs": [
    {
     "data": {
      "text/plain": [
       "<seaborn.axisgrid.FacetGrid at 0x7fcb6b8d6fd0>"
      ]
     },
     "execution_count": 349,
     "metadata": {},
     "output_type": "execute_result"
    },
    {
     "data": {
      "image/png": "[encoded data removed]",
      "text/plain": [
       "<Figure size 460.75x360 with 1 Axes>"
      ]
     },
     "metadata": {
      "needs_background": "light"
     },
     "output_type": "display_data"
    }
   ],
   "source": [
    "sns.relplot(x= \"Age\",hue= \"EducationStatus\",y=\"NEducationStatus\",data=d_melt)"
   ]
  },
  {
   "cell_type": "code",
   "execution_count": 352,
   "metadata": {
    "colab": {
     "base_uri": "https://localhost:8080/",
     "height": 386
    },
    "id": "7fs-0GcfU_6M",
    "outputId": "36bf8220-d96e-4f23-a20b-07a25ae1ad1b"
   },
   "outputs": [
    {
     "data": {
      "text/plain": [
       "<seaborn.axisgrid.FacetGrid at 0x7fcb6b9fa050>"
      ]
     },
     "execution_count": 352,
     "metadata": {},
     "output_type": "execute_result"
    },
    {
     "data": {
      "image/png": "[encoded data removed]",
      "text/plain": [
       "<Figure size 360x360 with 1 Axes>"
      ]
     },
     "metadata": {
      "needs_background": "light"
     },
     "output_type": "display_data"
    }
   ],
   "source": [
    "sns.displot(d_melt['EducationStatus'])"
   ]
  },
  {
   "cell_type": "code",
   "execution_count": 353,
   "metadata": {
    "colab": {
     "base_uri": "https://localhost:8080/",
     "height": 386
    },
    "id": "fmi-Lr65VGiU",
    "outputId": "4629150c-c23c-4289-ec19-13917ef8e402"
   },
   "outputs": [
    {
     "data": {
      "text/plain": [
       "<seaborn.axisgrid.FacetGrid at 0x7fcb68769ad0>"
      ]
     },
     "execution_count": 353,
     "metadata": {},
     "output_type": "execute_result"
    },
    {
     "data": {
      "image/png": "[encoded data removed]",
      "text/plain": [
       "<Figure size 360x360 with 1 Axes>"
      ]
     },
     "metadata": {
      "needs_background": "light"
     },
     "output_type": "display_data"
    }
   ],
   "source": [
    "sns.catplot(x='Age',kind=\"box\",data=d_melt)"
   ]
  }
 ],
 "metadata": {
  "colab": {
   "provenance": []
  },
  "kernelspec": {
   "display_name": "Python 3",
   "language": "python",
   "name": "python3"
  },
  "language_info": {
   "codemirror_mode": {
    "name": "ipython",
    "version": 3
   },
   "file_extension": ".py",
   "mimetype": "text/x-python",
   "name": "python",
   "nbconvert_exporter": "python",
   "pygments_lexer": "ipython3",
   "version": "3.8.10"
  }
 },
 "nbformat": 4,
 "nbformat_minor": 1
}
