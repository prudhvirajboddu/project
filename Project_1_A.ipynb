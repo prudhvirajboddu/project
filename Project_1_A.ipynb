{
 "cells": [
  {
   "cell_type": "code",
   "execution_count": 1,
   "metadata": {
    "colab": {
     "base_uri": "https://localhost:8080/"
    },
    "id": "6cAj99kB_aA1",
    "outputId": "4aa666af-19ab-46ec-c628-e75e7a1b0abf"
   },
   "outputs": [],
   "source": [
    "# !wget -b https://dsprojprudhvi.s3.amazonaws.com/DSCI6002_prj1_data.db\n",
    "import sqlite3\n",
    "import pandas as pd\n",
    "import matplotlib.pyplot as plt\n",
    "%matplotlib inline\n",
    "import seaborn as sns\n",
    "# pd.set_option('mode.chained_assignment', None)"
   ]
  },
  {
   "cell_type": "code",
   "execution_count": 2,
   "metadata": {
    "id": "QNM-UpWwFjUf"
   },
   "outputs": [],
   "source": [
    "conn =  sqlite3.connect('data.db')\n",
    "sql_data = conn.execute('select * from prj1')\n",
    "\n",
    "df = pd.DataFrame(sql_data.fetchall(),columns=['index','EdLevel','Age'])"
   ]
  },
  {
   "cell_type": "code",
   "execution_count": 3,
   "metadata": {
    "colab": {
     "base_uri": "https://localhost:8080/",
     "height": 520
    },
    "id": "gM-rIkGxS3rL",
    "outputId": "981a63da-e0c0-41b3-fcc2-85bf8304cbcc"
   },
   "outputs": [
    {
     "data": {
      "text/html": [
       "<div>\n",
       "<style scoped>\n",
       "    .dataframe tbody tr th:only-of-type {\n",
       "        vertical-align: middle;\n",
       "    }\n",
       "\n",
       "    .dataframe tbody tr th {\n",
       "        vertical-align: top;\n",
       "    }\n",
       "\n",
       "    .dataframe thead th {\n",
       "        text-align: right;\n",
       "    }\n",
       "</style>\n",
       "<table border=\"1\" class=\"dataframe\">\n",
       "  <thead>\n",
       "    <tr style=\"text-align: right;\">\n",
       "      <th></th>\n",
       "      <th>index</th>\n",
       "      <th>EdLevel</th>\n",
       "      <th>Age</th>\n",
       "    </tr>\n",
       "  </thead>\n",
       "  <tbody>\n",
       "    <tr>\n",
       "      <th>0</th>\n",
       "      <td>0</td>\n",
       "      <td>Less than HS</td>\n",
       "      <td>26.0</td>\n",
       "    </tr>\n",
       "    <tr>\n",
       "      <th>1</th>\n",
       "      <td>1</td>\n",
       "      <td>Less than HS</td>\n",
       "      <td>43.8</td>\n",
       "    </tr>\n",
       "    <tr>\n",
       "      <th>2</th>\n",
       "      <td>2</td>\n",
       "      <td>Less than HS</td>\n",
       "      <td>34.4</td>\n",
       "    </tr>\n",
       "    <tr>\n",
       "      <th>3</th>\n",
       "      <td>3</td>\n",
       "      <td>Less than HS</td>\n",
       "      <td>76.2</td>\n",
       "    </tr>\n",
       "    <tr>\n",
       "      <th>4</th>\n",
       "      <td>4</td>\n",
       "      <td>Less than HS</td>\n",
       "      <td>0.2</td>\n",
       "    </tr>\n",
       "    <tr>\n",
       "      <th>5</th>\n",
       "      <td>5</td>\n",
       "      <td>Less than HS</td>\n",
       "      <td>32.5</td>\n",
       "    </tr>\n",
       "    <tr>\n",
       "      <th>6</th>\n",
       "      <td>6</td>\n",
       "      <td>Less than HS</td>\n",
       "      <td>53.1</td>\n",
       "    </tr>\n",
       "    <tr>\n",
       "      <th>7</th>\n",
       "      <td>7</td>\n",
       "      <td>Less than HS</td>\n",
       "      <td>29.6</td>\n",
       "    </tr>\n",
       "    <tr>\n",
       "      <th>8</th>\n",
       "      <td>8</td>\n",
       "      <td>Less than HS</td>\n",
       "      <td>39.8</td>\n",
       "    </tr>\n",
       "    <tr>\n",
       "      <th>9</th>\n",
       "      <td>9</td>\n",
       "      <td>Less than HS</td>\n",
       "      <td>43.1</td>\n",
       "    </tr>\n",
       "    <tr>\n",
       "      <th>10</th>\n",
       "      <td>10</td>\n",
       "      <td>Less than HS</td>\n",
       "      <td>40.1</td>\n",
       "    </tr>\n",
       "    <tr>\n",
       "      <th>11</th>\n",
       "      <td>11</td>\n",
       "      <td>Less than HS</td>\n",
       "      <td>NaN</td>\n",
       "    </tr>\n",
       "    <tr>\n",
       "      <th>12</th>\n",
       "      <td>12</td>\n",
       "      <td>Less than HS</td>\n",
       "      <td>30.7</td>\n",
       "    </tr>\n",
       "    <tr>\n",
       "      <th>13</th>\n",
       "      <td>13</td>\n",
       "      <td>Less than HS</td>\n",
       "      <td>62.8</td>\n",
       "    </tr>\n",
       "    <tr>\n",
       "      <th>14</th>\n",
       "      <td>14</td>\n",
       "      <td>Less than HS</td>\n",
       "      <td>56.0</td>\n",
       "    </tr>\n",
       "  </tbody>\n",
       "</table>\n",
       "</div>"
      ],
      "text/plain": [
       "    index       EdLevel   Age\n",
       "0       0  Less than HS  26.0\n",
       "1       1  Less than HS  43.8\n",
       "2       2  Less than HS  34.4\n",
       "3       3  Less than HS  76.2\n",
       "4       4  Less than HS   0.2\n",
       "5       5  Less than HS  32.5\n",
       "6       6  Less than HS  53.1\n",
       "7       7  Less than HS  29.6\n",
       "8       8  Less than HS  39.8\n",
       "9       9  Less than HS  43.1\n",
       "10     10  Less than HS  40.1\n",
       "11     11  Less than HS   NaN\n",
       "12     12  Less than HS  30.7\n",
       "13     13  Less than HS  62.8\n",
       "14     14  Less than HS  56.0"
      ]
     },
     "execution_count": 3,
     "metadata": {},
     "output_type": "execute_result"
    }
   ],
   "source": [
    "df.head(15)"
   ]
  },
  {
   "cell_type": "code",
   "execution_count": 4,
   "metadata": {
    "colab": {
     "base_uri": "https://localhost:8080/"
    },
    "id": "CbPo-avLT2al",
    "outputId": "0d55e2a1-a5c5-4e7d-ba33-e35fb7d8cf1a"
   },
   "outputs": [
    {
     "data": {
      "text/plain": [
       "index  EdLevel  Age  \n",
       "False  False    False    1160\n",
       "                True       11\n",
       "dtype: int64"
      ]
     },
     "execution_count": 4,
     "metadata": {},
     "output_type": "execute_result"
    }
   ],
   "source": [
    "df.isnull().value_counts()"
   ]
  },
  {
   "cell_type": "code",
   "execution_count": 5,
   "metadata": {
    "id": "DD7Y-Nm9T6RF"
   },
   "outputs": [],
   "source": [
    "unique = list(df.EdLevel.unique())\n",
    "age=[]\n",
    "for i in unique:\n",
    "    mean = round(df[df['EdLevel'] == i].Age.mean(),1)\n",
    "    age.append(df[df['EdLevel'] == i].Age.fillna(mean))\n",
    "\n",
    "df['Age'] = pd.concat(age)"
   ]
  },
  {
   "cell_type": "code",
   "execution_count": 6,
   "metadata": {
    "colab": {
     "base_uri": "https://localhost:8080/"
    },
    "id": "_uavBQ_0g-sk",
    "outputId": "eeebfdba-b57e-4775-f4c6-d6b3a4cd7b84",
    "scrolled": true
   },
   "outputs": [
    {
     "data": {
      "text/plain": [
       "index      0\n",
       "EdLevel    0\n",
       "Age        0\n",
       "dtype: int64"
      ]
     },
     "execution_count": 6,
     "metadata": {},
     "output_type": "execute_result"
    }
   ],
   "source": [
    "df.isna().sum()"
   ]
  },
  {
   "cell_type": "code",
   "execution_count": 7,
   "metadata": {},
   "outputs": [
    {
     "data": {
      "text/plain": [
       "<AxesSubplot:xlabel='EdLevel', ylabel='Age'>"
      ]
     },
     "execution_count": 7,
     "metadata": {},
     "output_type": "execute_result"
    },
    {
     "data": {
      "image/png": "[encoded data removed]",
      "text/plain": [
       "<Figure size 432x288 with 1 Axes>"
      ]
     },
     "metadata": {
      "needs_background": "light"
     },
     "output_type": "display_data"
    }
   ],
   "source": [
    "sns.boxplot(x='EdLevel',y='Age',data=df)"
   ]
  },
  {
   "cell_type": "code",
   "execution_count": 8,
   "metadata": {},
   "outputs": [
    {
     "data": {
      "text/plain": [
       "<seaborn.axisgrid.FacetGrid at 0x7fddbd14c880>"
      ]
     },
     "execution_count": 8,
     "metadata": {},
     "output_type": "execute_result"
    },
    {
     "data": {
      "image/png": "[encoded data removed]",
      "text/plain": [
       "<Figure size 820.75x360 with 1 Axes>"
      ]
     },
     "metadata": {
      "needs_background": "light"
     },
     "output_type": "display_data"
    },
    {
     "data": {
      "image/png": "[encoded data removed]",
      "text/plain": [
       "<Figure size 820.75x360 with 1 Axes>"
      ]
     },
     "metadata": {
      "needs_background": "light"
     },
     "output_type": "display_data"
    }
   ],
   "source": [
    "sns.displot(df,x='Age',hue='EdLevel',kind='kde',height=5,aspect=2)\n",
    "sns.displot(df,x='Age',hue='EdLevel',multiple='dodge',height=5,aspect=2)"
   ]
  },
  {
   "cell_type": "code",
   "execution_count": 11,
   "metadata": {},
   "outputs": [],
   "source": [
    "import statsmodels.api as sm\n",
    "from statsmodels.formula.api import ols\n",
    "\n",
    "model=ols('Age~C(EdLevel)',data=df).fit()"
   ]
  },
  {
   "cell_type": "code",
   "execution_count": 12,
   "metadata": {},
   "outputs": [
    {
     "data": {
      "text/html": [
       "<table class=\"simpletable\">\n",
       "<caption>OLS Regression Results</caption>\n",
       "<tr>\n",
       "  <th>Dep. Variable:</th>           <td>Age</td>       <th>  R-squared:         </th> <td>   0.015</td>\n",
       "</tr>\n",
       "<tr>\n",
       "  <th>Model:</th>                   <td>OLS</td>       <th>  Adj. R-squared:    </th> <td>   0.012</td>\n",
       "</tr>\n",
       "<tr>\n",
       "  <th>Method:</th>             <td>Least Squares</td>  <th>  F-statistic:       </th> <td>   4.564</td>\n",
       "</tr>\n",
       "<tr>\n",
       "  <th>Date:</th>             <td>Thu, 24 Nov 2022</td> <th>  Prob (F-statistic):</th>  <td>0.00116</td>\n",
       "</tr>\n",
       "<tr>\n",
       "  <th>Time:</th>                 <td>09:20:08</td>     <th>  Log-Likelihood:    </th> <td> -4830.6</td>\n",
       "</tr>\n",
       "<tr>\n",
       "  <th>No. Observations:</th>      <td>  1171</td>      <th>  AIC:               </th> <td>   9671.</td>\n",
       "</tr>\n",
       "<tr>\n",
       "  <th>Df Residuals:</th>          <td>  1166</td>      <th>  BIC:               </th> <td>   9697.</td>\n",
       "</tr>\n",
       "<tr>\n",
       "  <th>Df Model:</th>              <td>     4</td>      <th>                     </th>     <td> </td>   \n",
       "</tr>\n",
       "<tr>\n",
       "  <th>Covariance Type:</th>      <td>nonrobust</td>    <th>                     </th>     <td> </td>   \n",
       "</tr>\n",
       "</table>\n",
       "<table class=\"simpletable\">\n",
       "<tr>\n",
       "               <td></td>                 <th>coef</th>     <th>std err</th>      <th>t</th>      <th>P>|t|</th>  <th>[0.025</th>    <th>0.975]</th>  \n",
       "</tr>\n",
       "<tr>\n",
       "  <th>Intercept</th>                  <td>   42.1304</td> <td>    0.943</td> <td>   44.659</td> <td> 0.000</td> <td>   40.280</td> <td>   43.981</td>\n",
       "</tr>\n",
       "<tr>\n",
       "  <th>C(EdLevel)[T.Graduate]</th>     <td>    1.4818</td> <td>    1.531</td> <td>    0.968</td> <td> 0.333</td> <td>   -1.521</td> <td>    4.485</td>\n",
       "</tr>\n",
       "<tr>\n",
       "  <th>C(EdLevel)[T.HS]</th>           <td>   -2.0075</td> <td>    1.141</td> <td>   -1.759</td> <td> 0.079</td> <td>   -4.247</td> <td>    0.231</td>\n",
       "</tr>\n",
       "<tr>\n",
       "  <th>C(EdLevel)[T.Jr Coll]</th>      <td>   -1.1263</td> <td>    1.792</td> <td>   -0.629</td> <td> 0.530</td> <td>   -4.642</td> <td>    2.390</td>\n",
       "</tr>\n",
       "<tr>\n",
       "  <th>C(EdLevel)[T.Less than HS]</th> <td>   -5.6021</td> <td>    1.663</td> <td>   -3.368</td> <td> 0.001</td> <td>   -8.865</td> <td>   -2.339</td>\n",
       "</tr>\n",
       "</table>\n",
       "<table class=\"simpletable\">\n",
       "<tr>\n",
       "  <th>Omnibus:</th>       <td> 0.377</td> <th>  Durbin-Watson:     </th> <td>   1.979</td>\n",
       "</tr>\n",
       "<tr>\n",
       "  <th>Prob(Omnibus):</th> <td> 0.828</td> <th>  Jarque-Bera (JB):  </th> <td>   0.445</td>\n",
       "</tr>\n",
       "<tr>\n",
       "  <th>Skew:</th>          <td> 0.035</td> <th>  Prob(JB):          </th> <td>   0.800</td>\n",
       "</tr>\n",
       "<tr>\n",
       "  <th>Kurtosis:</th>      <td> 2.935</td> <th>  Cond. No.          </th> <td>    6.26</td>\n",
       "</tr>\n",
       "</table><br/><br/>Notes:<br/>[1] Standard Errors assume that the covariance matrix of the errors is correctly specified."
      ],
      "text/plain": [
       "<class 'statsmodels.iolib.summary.Summary'>\n",
       "\"\"\"\n",
       "                            OLS Regression Results                            \n",
       "==============================================================================\n",
       "Dep. Variable:                    Age   R-squared:                       0.015\n",
       "Model:                            OLS   Adj. R-squared:                  0.012\n",
       "Method:                 Least Squares   F-statistic:                     4.564\n",
       "Date:                Thu, 24 Nov 2022   Prob (F-statistic):            0.00116\n",
       "Time:                        09:20:08   Log-Likelihood:                -4830.6\n",
       "No. Observations:                1171   AIC:                             9671.\n",
       "Df Residuals:                    1166   BIC:                             9697.\n",
       "Df Model:                           4                                         \n",
       "Covariance Type:            nonrobust                                         \n",
       "==============================================================================================\n",
       "                                 coef    std err          t      P>|t|      [0.025      0.975]\n",
       "----------------------------------------------------------------------------------------------\n",
       "Intercept                     42.1304      0.943     44.659      0.000      40.280      43.981\n",
       "C(EdLevel)[T.Graduate]         1.4818      1.531      0.968      0.333      -1.521       4.485\n",
       "C(EdLevel)[T.HS]              -2.0075      1.141     -1.759      0.079      -4.247       0.231\n",
       "C(EdLevel)[T.Jr Coll]         -1.1263      1.792     -0.629      0.530      -4.642       2.390\n",
       "C(EdLevel)[T.Less than HS]    -5.6021      1.663     -3.368      0.001      -8.865      -2.339\n",
       "==============================================================================\n",
       "Omnibus:                        0.377   Durbin-Watson:                   1.979\n",
       "Prob(Omnibus):                  0.828   Jarque-Bera (JB):                0.445\n",
       "Skew:                           0.035   Prob(JB):                        0.800\n",
       "Kurtosis:                       2.935   Cond. No.                         6.26\n",
       "==============================================================================\n",
       "\n",
       "Notes:\n",
       "[1] Standard Errors assume that the covariance matrix of the errors is correctly specified.\n",
       "\"\"\""
      ]
     },
     "execution_count": 12,
     "metadata": {},
     "output_type": "execute_result"
    }
   ],
   "source": [
    "model.summary()"
   ]
  },
  {
   "cell_type": "code",
   "execution_count": 13,
   "metadata": {},
   "outputs": [
    {
     "name": "stdout",
     "output_type": "stream",
     "text": [
      "                   sum_sq      df         F    PR(>F)\n",
      "C(EdLevel)    4110.794628     4.0  4.564348  0.001163\n",
      "Residual    262534.008207  1166.0       NaN       NaN\n"
     ]
    }
   ],
   "source": [
    "anova_table = sm.stats.anova_lm(model,typ=2)\n",
    "\n",
    "print(anova_table)"
   ]
  },
  {
   "cell_type": "code",
   "execution_count": 14,
   "metadata": {},
   "outputs": [
    {
     "name": "stdout",
     "output_type": "stream",
     "text": [
      "                   sum_sq      df         F    PR(>F)     EtaSq\n",
      "C(EdLevel)    4110.794628     4.0  4.564348  0.001163  0.015417\n",
      "Residual    262534.008207  1166.0       NaN       NaN       NaN\n"
     ]
    }
   ],
   "source": [
    "esq_sm = anova_table['sum_sq'][0] / (anova_table['sum_sq'][0]+anova_table['sum_sq'][1])\n",
    "\n",
    "anova_table['EtaSq'] = [esq_sm,'NaN']\n",
    "\n",
    "print(anova_table)"
   ]
  },
  {
   "cell_type": "code",
   "execution_count": 16,
   "metadata": {},
   "outputs": [
    {
     "data": {
      "text/html": [
       "<div>\n",
       "<style scoped>\n",
       "    .dataframe tbody tr th:only-of-type {\n",
       "        vertical-align: middle;\n",
       "    }\n",
       "\n",
       "    .dataframe tbody tr th {\n",
       "        vertical-align: top;\n",
       "    }\n",
       "\n",
       "    .dataframe thead th {\n",
       "        text-align: right;\n",
       "    }\n",
       "</style>\n",
       "<table border=\"1\" class=\"dataframe\">\n",
       "  <thead>\n",
       "    <tr style=\"text-align: right;\">\n",
       "      <th></th>\n",
       "      <th>coef</th>\n",
       "      <th>std err</th>\n",
       "      <th>t</th>\n",
       "      <th>P&gt;|t|</th>\n",
       "      <th>Conf. Int. Low</th>\n",
       "      <th>Conf. Int. Upp.</th>\n",
       "      <th>pvalue-hs</th>\n",
       "      <th>reject-hs</th>\n",
       "    </tr>\n",
       "  </thead>\n",
       "  <tbody>\n",
       "    <tr>\n",
       "      <th>Graduate-Bachelor's</th>\n",
       "      <td>1.481823</td>\n",
       "      <td>1.530550</td>\n",
       "      <td>0.968164</td>\n",
       "      <td>0.333163</td>\n",
       "      <td>-1.521116</td>\n",
       "      <td>4.484763</td>\n",
       "      <td>0.703477</td>\n",
       "      <td>False</td>\n",
       "    </tr>\n",
       "    <tr>\n",
       "      <th>HS-Bachelor's</th>\n",
       "      <td>-2.007541</td>\n",
       "      <td>1.141196</td>\n",
       "      <td>-1.759155</td>\n",
       "      <td>0.078813</td>\n",
       "      <td>-4.246569</td>\n",
       "      <td>0.231487</td>\n",
       "      <td>0.336657</td>\n",
       "      <td>False</td>\n",
       "    </tr>\n",
       "    <tr>\n",
       "      <th>Jr Coll-Bachelor's</th>\n",
       "      <td>-1.126311</td>\n",
       "      <td>1.791973</td>\n",
       "      <td>-0.628531</td>\n",
       "      <td>0.529779</td>\n",
       "      <td>-4.642163</td>\n",
       "      <td>2.389541</td>\n",
       "      <td>0.778892</td>\n",
       "      <td>False</td>\n",
       "    </tr>\n",
       "    <tr>\n",
       "      <th>Less than HS-Bachelor's</th>\n",
       "      <td>-5.602101</td>\n",
       "      <td>1.663210</td>\n",
       "      <td>-3.368247</td>\n",
       "      <td>0.000781</td>\n",
       "      <td>-8.865320</td>\n",
       "      <td>-2.338883</td>\n",
       "      <td>0.007009</td>\n",
       "      <td>True</td>\n",
       "    </tr>\n",
       "    <tr>\n",
       "      <th>HS-Graduate</th>\n",
       "      <td>-3.489364</td>\n",
       "      <td>1.365653</td>\n",
       "      <td>-2.555089</td>\n",
       "      <td>0.010742</td>\n",
       "      <td>-6.168776</td>\n",
       "      <td>-0.809952</td>\n",
       "      <td>0.082775</td>\n",
       "      <td>False</td>\n",
       "    </tr>\n",
       "    <tr>\n",
       "      <th>Jr Coll-Graduate</th>\n",
       "      <td>-2.608134</td>\n",
       "      <td>1.942639</td>\n",
       "      <td>-1.342573</td>\n",
       "      <td>0.179672</td>\n",
       "      <td>-6.419593</td>\n",
       "      <td>1.203324</td>\n",
       "      <td>0.547154</td>\n",
       "      <td>False</td>\n",
       "    </tr>\n",
       "    <tr>\n",
       "      <th>Less than HS-Graduate</th>\n",
       "      <td>-7.083925</td>\n",
       "      <td>1.824540</td>\n",
       "      <td>-3.882581</td>\n",
       "      <td>0.000109</td>\n",
       "      <td>-10.663673</td>\n",
       "      <td>-3.504176</td>\n",
       "      <td>0.001091</td>\n",
       "      <td>True</td>\n",
       "    </tr>\n",
       "    <tr>\n",
       "      <th>Jr Coll-HS</th>\n",
       "      <td>0.881230</td>\n",
       "      <td>1.653358</td>\n",
       "      <td>0.532994</td>\n",
       "      <td>0.594139</td>\n",
       "      <td>-2.362659</td>\n",
       "      <td>4.125119</td>\n",
       "      <td>0.778892</td>\n",
       "      <td>False</td>\n",
       "    </tr>\n",
       "    <tr>\n",
       "      <th>Less than HS-HS</th>\n",
       "      <td>-3.594560</td>\n",
       "      <td>1.512842</td>\n",
       "      <td>-2.376031</td>\n",
       "      <td>0.017661</td>\n",
       "      <td>-6.562758</td>\n",
       "      <td>-0.626363</td>\n",
       "      <td>0.117265</td>\n",
       "      <td>False</td>\n",
       "    </tr>\n",
       "    <tr>\n",
       "      <th>Less than HS-Jr Coll</th>\n",
       "      <td>-4.475790</td>\n",
       "      <td>2.048787</td>\n",
       "      <td>-2.184605</td>\n",
       "      <td>0.029116</td>\n",
       "      <td>-8.495512</td>\n",
       "      <td>-0.456068</td>\n",
       "      <td>0.162465</td>\n",
       "      <td>False</td>\n",
       "    </tr>\n",
       "  </tbody>\n",
       "</table>\n",
       "</div>"
      ],
      "text/plain": [
       "                             coef   std err         t     P>|t|  \\\n",
       "Graduate-Bachelor's      1.481823  1.530550  0.968164  0.333163   \n",
       "HS-Bachelor's           -2.007541  1.141196 -1.759155  0.078813   \n",
       "Jr Coll-Bachelor's      -1.126311  1.791973 -0.628531  0.529779   \n",
       "Less than HS-Bachelor's -5.602101  1.663210 -3.368247  0.000781   \n",
       "HS-Graduate             -3.489364  1.365653 -2.555089  0.010742   \n",
       "Jr Coll-Graduate        -2.608134  1.942639 -1.342573  0.179672   \n",
       "Less than HS-Graduate   -7.083925  1.824540 -3.882581  0.000109   \n",
       "Jr Coll-HS               0.881230  1.653358  0.532994  0.594139   \n",
       "Less than HS-HS         -3.594560  1.512842 -2.376031  0.017661   \n",
       "Less than HS-Jr Coll    -4.475790  2.048787 -2.184605  0.029116   \n",
       "\n",
       "                         Conf. Int. Low  Conf. Int. Upp.  pvalue-hs  reject-hs  \n",
       "Graduate-Bachelor's           -1.521116         4.484763   0.703477      False  \n",
       "HS-Bachelor's                 -4.246569         0.231487   0.336657      False  \n",
       "Jr Coll-Bachelor's            -4.642163         2.389541   0.778892      False  \n",
       "Less than HS-Bachelor's       -8.865320        -2.338883   0.007009       True  \n",
       "HS-Graduate                   -6.168776        -0.809952   0.082775      False  \n",
       "Jr Coll-Graduate              -6.419593         1.203324   0.547154      False  \n",
       "Less than HS-Graduate        -10.663673        -3.504176   0.001091       True  \n",
       "Jr Coll-HS                    -2.362659         4.125119   0.778892      False  \n",
       "Less than HS-HS               -6.562758        -0.626363   0.117265      False  \n",
       "Less than HS-Jr Coll          -8.495512        -0.456068   0.162465      False  "
      ]
     },
     "execution_count": 16,
     "metadata": {},
     "output_type": "execute_result"
    }
   ],
   "source": [
    "pair_t = model.t_test_pairwise('C(EdLevel)')\n",
    "\n",
    "pair_t.result_frame"
   ]
  },
  {
   "cell_type": "code",
   "execution_count": 18,
   "metadata": {},
   "outputs": [
    {
     "name": "stdout",
     "output_type": "stream",
     "text": [
      "      Multiple Comparison of Means - Tukey HSD, FWER=0.05      \n",
      "===============================================================\n",
      "  group1      group2    meandiff p-adj   lower    upper  reject\n",
      "---------------------------------------------------------------\n",
      "Bachelor's     Graduate   1.4818 0.8695  -2.6997  5.6634  False\n",
      "Bachelor's           HS  -2.0075 0.3982  -5.1253  1.1103  False\n",
      "Bachelor's      Jr Coll  -1.1263 0.9705  -6.0221  3.7694  False\n",
      "Bachelor's Less than HS  -5.6021  0.007 -10.1461 -1.0581   True\n",
      "  Graduate           HS  -3.4894 0.0796  -7.2204  0.2417  False\n",
      "  Graduate      Jr Coll  -2.6081 0.6646  -7.9155  2.6993  False\n",
      "  Graduate Less than HS  -7.0839  0.001 -12.0687 -2.0992   True\n",
      "        HS      Jr Coll   0.8812 0.9839  -3.6358  5.3983  False\n",
      "        HS Less than HS  -3.5946 0.1226  -7.7277  0.5386  False\n",
      "   Jr Coll Less than HS  -4.4758 0.1862 -10.0732  1.1216  False\n",
      "---------------------------------------------------------------\n"
     ]
    }
   ],
   "source": [
    "mc = sm.stats.multicomp.MultiComparison(df['Age'],df['EdLevel'])\n",
    "\n",
    "mc_results =  mc.tukeyhsd()\n",
    "\n",
    "print(mc_results)"
   ]
  },
  {
   "cell_type": "code",
   "execution_count": 19,
   "metadata": {},
   "outputs": [
    {
     "data": {
      "image/png": "[encoded data removed]",
      "text/plain": [
       "<Figure size 432x288 with 1 Axes>"
      ]
     },
     "metadata": {
      "needs_background": "light"
     },
     "output_type": "display_data"
    }
   ],
   "source": [
    "res = model.resid\n",
    "\n",
    "fig = sm.qqplot(res,line='s')"
   ]
  },
  {
   "cell_type": "code",
   "execution_count": 20,
   "metadata": {},
   "outputs": [
    {
     "data": {
      "text/plain": [
       "<seaborn.axisgrid.FacetGrid at 0x7fddb737d2b0>"
      ]
     },
     "execution_count": 20,
     "metadata": {},
     "output_type": "execute_result"
    },
    {
     "data": {
      "image/png": "[encoded data removed]",
      "text/plain": [
       "<Figure size 360x360 with 1 Axes>"
      ]
     },
     "metadata": {
      "needs_background": "light"
     },
     "output_type": "display_data"
    }
   ],
   "source": [
    "import seaborn as sns\n",
    "\n",
    "sns.displot(res,bins='auto',kind='hist')"
   ]
  },
  {
   "cell_type": "code",
   "execution_count": null,
   "metadata": {},
   "outputs": [],
   "source": []
  },
  {
   "cell_type": "code",
   "execution_count": 22,
   "metadata": {},
   "outputs": [],
   "source": [
    "data = df.copy()\n",
    "edlevel={'Less than HS':1,'HS':2,'Jr Coll':3,'Bachelor\\'s':4,'Graduate':5}\n",
    "data.EdLevel = [edlevel[item] for item in data.EdLevel]"
   ]
  },
  {
   "cell_type": "code",
   "execution_count": 24,
   "metadata": {},
   "outputs": [
    {
     "data": {
      "text/plain": [
       "0       1\n",
       "1       1\n",
       "2       1\n",
       "3       1\n",
       "4       1\n",
       "       ..\n",
       "1166    5\n",
       "1167    5\n",
       "1168    5\n",
       "1169    5\n",
       "1170    5\n",
       "Name: EdLevel, Length: 1171, dtype: int64"
      ]
     },
     "execution_count": 24,
     "metadata": {},
     "output_type": "execute_result"
    }
   ],
   "source": [
    "data.EdLevel"
   ]
  }
 ],
 "metadata": {
  "colab": {
   "provenance": []
  },
  "kernelspec": {
   "display_name": "Python 3 (ipykernel)",
   "language": "python",
   "name": "python3"
  },
  "language_info": {
   "codemirror_mode": {
    "name": "ipython",
    "version": 3
   },
   "file_extension": ".py",
   "mimetype": "text/x-python",
   "name": "python",
   "nbconvert_exporter": "python",
   "pygments_lexer": "ipython3",
   "version": "3.9.12"
  }
 },
 "nbformat": 4,
 "nbformat_minor": 1
}
